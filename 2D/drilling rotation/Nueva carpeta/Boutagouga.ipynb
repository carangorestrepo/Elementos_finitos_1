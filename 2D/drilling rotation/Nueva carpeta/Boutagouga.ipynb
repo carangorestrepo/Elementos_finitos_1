{
 "cells": [
  {
   "cell_type": "markdown",
   "id": "d488f621",
   "metadata": {},
   "source": [
    "# A formulation of membrane finite elements with true drilling rotation"
   ]
  },
  {
   "cell_type": "markdown",
   "id": "3465487d",
   "metadata": {},
   "source": [
    "Implementation of the article:\n",
    "    \n",
    "Boutagouga, Djamel (2020). *A formulation of membrane finite elements with true drilling rotation: the compatible triangular element*. Engineering Computations, Vol. 37, No. 1, p. 203-236. http://dx.doi.org/10.1108/EC-12-2018-0572"
   ]
  },
  {
   "cell_type": "code",
   "execution_count": 1,
   "id": "be730d70",
   "metadata": {},
   "outputs": [],
   "source": [
    "import sympy as sp\n",
    "from sympy import symbols, diff, solve, linear_eq_to_matrix, Matrix, oo\n",
    "\n",
    "sp.init_printing()\n",
    "\n",
    "# para imprimir el valor de las variables:\n",
    "from IPython.display import Math   \n",
    "def imprimir (texto, valor):\n",
    "    return Math(texto + rf'{sp.latex(valor)}')\n",
    "\n",
    "# para que varios imprimir se puedan ejecutar en la misma celda:\n",
    "from IPython.core.interactiveshell import InteractiveShell\n",
    "InteractiveShell.ast_node_interactivity = \"all\""
   ]
  },
  {
   "cell_type": "markdown",
   "id": "9a63b03c",
   "metadata": {},
   "source": [
    "Define symbolic variables:"
   ]
  },
  {
   "cell_type": "code",
   "execution_count": 2,
   "id": "51878a17",
   "metadata": {},
   "outputs": [],
   "source": [
    "a1, a2, a3, a4, a5, a6 = symbols('a1:7')\n",
    "b1, b2, b3, b4, b5, b6 = symbols('b1:7')\n",
    "d1, d2, d3, d4, d5, d6 = symbols('d1:7')\n",
    "\n",
    "c12, c23, c31 = symbols('c12, c23, c31')\n",
    "s12, s23, s31 = symbols('s12, s23, s31')\n",
    "L12, L23, L31 = symbols('l_12, l_23, l_31')\n",
    "\n",
    "alpha_1, alpha_2, alpha_3, alpha_4, alpha_5, alpha_6, alpha_7, alpha_8, alpha_9 = symbols('alpha_1:10')\n",
    "alphas = [ alpha_1, alpha_2, alpha_3, alpha_4, alpha_5, alpha_6, alpha_7, alpha_8, alpha_9 ]\n",
    "\n",
    "x, y = symbols('x, y')\n",
    "\n",
    "P4, P5, P6 = symbols('P4:7')\n",
    "x1, x2, x3 = symbols('x1:4', real=True)\n",
    "y1, y2, y3 = symbols('y1:4', real=True)\n",
    "\n",
    "x1 = y1 = y2 = 0\n",
    "x4 = (x1+x2)/2;    x5 = (x2+x3)/2;    x6 = (x3+x1)/2\n",
    "y4 = (y1+y2)/2;    y5 = (y2+y3)/2;    y6 = (y3+y1)/2"
   ]
  },
  {
   "cell_type": "markdown",
   "id": "9efcd571",
   "metadata": {},
   "source": [
    "Calculate equations (15):"
   ]
  },
  {
   "cell_type": "code",
   "execution_count": 3,
   "id": "1df04461",
   "metadata": {},
   "outputs": [
    {
     "data": {
      "text/latex": [
       "$\\displaystyle a_1 = 0$"
      ],
      "text/plain": [
       "<IPython.core.display.Math object>"
      ]
     },
     "execution_count": 3,
     "metadata": {},
     "output_type": "execute_result"
    },
    {
     "data": {
      "text/latex": [
       "$\\displaystyle a_2 = \\frac{4}{x_{2}}$"
      ],
      "text/plain": [
       "<IPython.core.display.Math object>"
      ]
     },
     "execution_count": 3,
     "metadata": {},
     "output_type": "execute_result"
    },
    {
     "data": {
      "text/latex": [
       "$\\displaystyle a_3 = - \\frac{4 x_{3}}{x_{2} y_{3}}$"
      ],
      "text/plain": [
       "<IPython.core.display.Math object>"
      ]
     },
     "execution_count": 3,
     "metadata": {},
     "output_type": "execute_result"
    },
    {
     "data": {
      "text/latex": [
       "$\\displaystyle a_4 = - \\frac{4}{x_{2}^{2}}$"
      ],
      "text/plain": [
       "<IPython.core.display.Math object>"
      ]
     },
     "execution_count": 3,
     "metadata": {},
     "output_type": "execute_result"
    },
    {
     "data": {
      "text/latex": [
       "$\\displaystyle a_5 = \\frac{- 4 x_{2} + 8 x_{3}}{x_{2}^{2} y_{3}}$"
      ],
      "text/plain": [
       "<IPython.core.display.Math object>"
      ]
     },
     "execution_count": 3,
     "metadata": {},
     "output_type": "execute_result"
    },
    {
     "data": {
      "text/latex": [
       "$\\displaystyle a_6 = \\frac{4 x_{2} x_{3} - 4 x_{3}^{2}}{x_{2}^{2} y_{3}^{2}}$"
      ],
      "text/plain": [
       "<IPython.core.display.Math object>"
      ]
     },
     "execution_count": 3,
     "metadata": {},
     "output_type": "execute_result"
    }
   ],
   "source": [
    "# equations 14\n",
    "eqs = [ a1 + a2*x1 + a3*y1 + a4*x1**2 + a5*x1*y1 + a6*y1**2 - 0,\n",
    "        a1 + a2*x2 + a3*y2 + a4*x2**2 + a5*x2*y2 + a6*y2**2 - 0,\n",
    "        a1 + a2*x3 + a3*y3 + a4*x3**2 + a5*x3*y3 + a6*y3**2 - 0,\n",
    "        a1 + a2*x4 + a3*y4 + a4*x4**2 + a5*x4*y4 + a6*y4**2 - 1,\n",
    "        a1 + a2*x5 + a3*y5 + a4*x5**2 + a5*x5*y5 + a6*y5**2 - 0,\n",
    "        a1 + a2*x6 + a3*y6 + a4*x6**2 + a5*x6*y6 + a6*y6**2 - 0 ]\n",
    "sol_a = solve(eqs, [a1, a2, a3, a4, a5, a6])\n",
    "\n",
    "# print equations 15\n",
    "imprimir('a_1 = ', sol_a[a1])\n",
    "imprimir('a_2 = ', sol_a[a2])\n",
    "imprimir('a_3 = ', sol_a[a3])\n",
    "imprimir('a_4 = ', sol_a[a4])\n",
    "imprimir('a_5 = ', sol_a[a5])\n",
    "imprimir('a_6 = ', sol_a[a6])"
   ]
  },
  {
   "cell_type": "markdown",
   "id": "f4582463",
   "metadata": {},
   "source": [
    "Calculate equations (17):"
   ]
  },
  {
   "cell_type": "code",
   "execution_count": 4,
   "id": "bb58a5e2",
   "metadata": {},
   "outputs": [
    {
     "data": {
      "text/latex": [
       "$\\displaystyle b_1 = 0$"
      ],
      "text/plain": [
       "<IPython.core.display.Math object>"
      ]
     },
     "execution_count": 4,
     "metadata": {},
     "output_type": "execute_result"
    },
    {
     "data": {
      "text/latex": [
       "$\\displaystyle b_2 = 0$"
      ],
      "text/plain": [
       "<IPython.core.display.Math object>"
      ]
     },
     "execution_count": 4,
     "metadata": {},
     "output_type": "execute_result"
    },
    {
     "data": {
      "text/latex": [
       "$\\displaystyle b_3 = 0$"
      ],
      "text/plain": [
       "<IPython.core.display.Math object>"
      ]
     },
     "execution_count": 4,
     "metadata": {},
     "output_type": "execute_result"
    },
    {
     "data": {
      "text/latex": [
       "$\\displaystyle b_4 = 0$"
      ],
      "text/plain": [
       "<IPython.core.display.Math object>"
      ]
     },
     "execution_count": 4,
     "metadata": {},
     "output_type": "execute_result"
    },
    {
     "data": {
      "text/latex": [
       "$\\displaystyle b_5 = \\frac{4}{x_{2} y_{3}}$"
      ],
      "text/plain": [
       "<IPython.core.display.Math object>"
      ]
     },
     "execution_count": 4,
     "metadata": {},
     "output_type": "execute_result"
    },
    {
     "data": {
      "text/latex": [
       "$\\displaystyle b_6 = - \\frac{4 x_{3}}{x_{2} y_{3}^{2}}$"
      ],
      "text/plain": [
       "<IPython.core.display.Math object>"
      ]
     },
     "execution_count": 4,
     "metadata": {},
     "output_type": "execute_result"
    }
   ],
   "source": [
    "# ecuaciones 16\n",
    "eqs = [ b1 + b2*x1 + b3*y1 + b4*x1**2 + b5*x1*y1 + b6*y1**2 - 0,\n",
    "        b1 + b2*x2 + b3*y2 + b4*x2**2 + b5*x2*y2 + b6*y2**2 - 0,\n",
    "        b1 + b2*x3 + b3*y3 + b4*x3**2 + b5*x3*y3 + b6*y3**2 - 0,\n",
    "        b1 + b2*x4 + b3*y4 + b4*x4**2 + b5*x4*y4 + b6*y4**2 - 0,\n",
    "        b1 + b2*x5 + b3*y5 + b4*x5**2 + b5*x5*y5 + b6*y5**2 - 1,\n",
    "        b1 + b2*x6 + b3*y6 + b4*x6**2 + b5*x6*y6 + b6*y6**2 - 0 ]\n",
    "sol_b = solve(eqs, [b1, b2, b3, b4, b5, b6])\n",
    "\n",
    "# print equations 17\n",
    "imprimir('b_1 = ', sol_b[b1])\n",
    "imprimir('b_2 = ', sol_b[b2])\n",
    "imprimir('b_3 = ', sol_b[b3])\n",
    "imprimir('b_4 = ', sol_b[b4])\n",
    "imprimir('b_5 = ', sol_b[b5])\n",
    "imprimir('b_6 = ', sol_b[b6])"
   ]
  },
  {
   "cell_type": "markdown",
   "id": "6e51da01",
   "metadata": {},
   "source": [
    "Calculate equations (19):"
   ]
  },
  {
   "cell_type": "code",
   "execution_count": 5,
   "id": "a53ef4f0",
   "metadata": {},
   "outputs": [
    {
     "data": {
      "text/latex": [
       "$\\displaystyle d_1 = 0$"
      ],
      "text/plain": [
       "<IPython.core.display.Math object>"
      ]
     },
     "execution_count": 5,
     "metadata": {},
     "output_type": "execute_result"
    },
    {
     "data": {
      "text/latex": [
       "$\\displaystyle d_2 = 0$"
      ],
      "text/plain": [
       "<IPython.core.display.Math object>"
      ]
     },
     "execution_count": 5,
     "metadata": {},
     "output_type": "execute_result"
    },
    {
     "data": {
      "text/latex": [
       "$\\displaystyle d_3 = \\frac{4}{y_{3}}$"
      ],
      "text/plain": [
       "<IPython.core.display.Math object>"
      ]
     },
     "execution_count": 5,
     "metadata": {},
     "output_type": "execute_result"
    },
    {
     "data": {
      "text/latex": [
       "$\\displaystyle d_4 = 0$"
      ],
      "text/plain": [
       "<IPython.core.display.Math object>"
      ]
     },
     "execution_count": 5,
     "metadata": {},
     "output_type": "execute_result"
    },
    {
     "data": {
      "text/latex": [
       "$\\displaystyle d_5 = - \\frac{4}{x_{2} y_{3}}$"
      ],
      "text/plain": [
       "<IPython.core.display.Math object>"
      ]
     },
     "execution_count": 5,
     "metadata": {},
     "output_type": "execute_result"
    },
    {
     "data": {
      "text/latex": [
       "$\\displaystyle d_6 = \\frac{- 4 x_{2} + 4 x_{3}}{x_{2} y_{3}^{2}}$"
      ],
      "text/plain": [
       "<IPython.core.display.Math object>"
      ]
     },
     "execution_count": 5,
     "metadata": {},
     "output_type": "execute_result"
    }
   ],
   "source": [
    "# ecuaciones 18\n",
    "eqs = [ d1 + d2*x1 + d3*y1 + d4*x1**2 + d5*x1*y1 + d6*y1**2 - 0,\n",
    "        d1 + d2*x2 + d3*y2 + d4*x2**2 + d5*x2*y2 + d6*y2**2 - 0,\n",
    "        d1 + d2*x3 + d3*y3 + d4*x3**2 + d5*x3*y3 + d6*y3**2 - 0,\n",
    "        d1 + d2*x4 + d3*y4 + d4*x4**2 + d5*x4*y4 + d6*y4**2 - 0,\n",
    "        d1 + d2*x5 + d3*y5 + d4*x5**2 + d5*x5*y5 + d6*y5**2 - 0,\n",
    "        d1 + d2*x6 + d3*y6 + d4*x6**2 + d5*x6*y6 + d6*y6**2 - 1 ]\n",
    "sol_d = solve(eqs, [d1, d2, d3, d4, d5, d6])\n",
    "\n",
    "# print equations 19\n",
    "imprimir('d_1 = ', sol_d[d1])\n",
    "imprimir('d_2 = ', sol_d[d2])\n",
    "imprimir('d_3 = ', sol_d[d3])\n",
    "imprimir('d_4 = ', sol_d[d4])\n",
    "imprimir('d_5 = ', sol_d[d5])\n",
    "imprimir('d_6 = ', sol_d[d6])"
   ]
  },
  {
   "cell_type": "markdown",
   "id": "cfa11b99",
   "metadata": {},
   "source": [
    "Calculate equation (21):"
   ]
  },
  {
   "cell_type": "code",
   "execution_count": 6,
   "id": "6cdcecd6",
   "metadata": {},
   "outputs": [
    {
     "data": {
      "text/latex": [
       "$\\displaystyle u = P_{4} c_{12} \\left(a_{1} + a_{2} x + a_{3} y + a_{4} x^{2} + a_{5} x y + a_{6} y^{2}\\right) + P_{5} c_{23} \\left(b_{1} + b_{2} x + b_{3} y + b_{4} x^{2} + b_{5} x y + b_{6} y^{2}\\right) + P_{6} c_{31} \\left(d_{1} + d_{2} x + d_{3} y + d_{4} x^{2} + d_{5} x y + d_{6} y^{2}\\right) + \\alpha_{1} + \\alpha_{2} x + \\alpha_{3} y$"
      ],
      "text/plain": [
       "<IPython.core.display.Math object>"
      ]
     },
     "execution_count": 6,
     "metadata": {},
     "output_type": "execute_result"
    },
    {
     "data": {
      "text/latex": [
       "$\\displaystyle v = P_{4} s_{12} \\left(a_{1} + a_{2} x + a_{3} y + a_{4} x^{2} + a_{5} x y + a_{6} y^{2}\\right) + P_{5} s_{23} \\left(b_{1} + b_{2} x + b_{3} y + b_{4} x^{2} + b_{5} x y + b_{6} y^{2}\\right) + P_{6} s_{31} \\left(d_{1} + d_{2} x + d_{3} y + d_{4} x^{2} + d_{5} x y + d_{6} y^{2}\\right) + \\alpha_{4} + \\alpha_{5} x + \\alpha_{6} y$"
      ],
      "text/plain": [
       "<IPython.core.display.Math object>"
      ]
     },
     "execution_count": 6,
     "metadata": {},
     "output_type": "execute_result"
    }
   ],
   "source": [
    "# equations 13\n",
    "dp4 = (a1 + a2*x + a3*y + a4*x**2 + a5*x*y + a6*y**2)*P4\n",
    "dp5 = (b1 + b2*x + b3*y + b4*x**2 + b5*x*y + b6*y**2)*P5\n",
    "dp6 = (d1 + d2*x + d3*y + d4*x**2 + d5*x*y + d6*y**2)*P6\n",
    "\n",
    "# equations 20\n",
    "up4 = dp4*c12;    up5 = dp5*c23;    up6 = dp6*c31\n",
    "vp4 = dp4*s12;    vp5 = dp5*s23;    vp6 = dp6*s31\n",
    "\n",
    "# equations 10\n",
    "ul = alpha_1 + alpha_2*x + alpha_3*y\n",
    "vl = alpha_4 + alpha_5*x + alpha_6*y\n",
    "\n",
    "# equations 12\n",
    "up = dp4*c12 + dp5*c23 + dp6*c31\n",
    "vp = dp4*s12 + dp5*s23 + dp6*s31\n",
    "\n",
    "# equations 9\n",
    "u = ul + up\n",
    "v = vl + vp\n",
    "\n",
    "# print equations 21\n",
    "imprimir('u = ', u)\n",
    "imprimir('v = ', v)"
   ]
  },
  {
   "cell_type": "markdown",
   "id": "2c5d7fa8",
   "metadata": {},
   "source": [
    "Calculate equation (23):"
   ]
  },
  {
   "cell_type": "code",
   "execution_count": 7,
   "id": "6fa9a046",
   "metadata": {},
   "outputs": [
    {
     "data": {
      "text/latex": [
       "$\\displaystyle \\varphi = - \\frac{P_{4} c_{12} \\left(a_{3} + a_{5} x + 2 a_{6} y\\right)}{2} + \\frac{P_{4} s_{12} \\left(a_{2} + 2 a_{4} x + a_{5} y\\right)}{2} - \\frac{P_{5} c_{23} \\left(b_{3} + b_{5} x + 2 b_{6} y\\right)}{2} + \\frac{P_{5} s_{23} \\left(b_{2} + 2 b_{4} x + b_{5} y\\right)}{2} - \\frac{P_{6} c_{31} \\left(d_{3} + d_{5} x + 2 d_{6} y\\right)}{2} + \\frac{P_{6} s_{31} \\left(d_{2} + 2 d_{4} x + d_{5} y\\right)}{2} - \\frac{\\alpha_{3}}{2} + \\frac{\\alpha_{5}}{2}$"
      ],
      "text/plain": [
       "<IPython.core.display.Math object>"
      ]
     },
     "execution_count": 7,
     "metadata": {},
     "output_type": "execute_result"
    }
   ],
   "source": [
    "# equation 7\n",
    "phi = (diff(v, x) - diff(u, y))/2\n",
    "\n",
    "# print equation 23\n",
    "imprimir(r'\\varphi = ', phi)"
   ]
  },
  {
   "cell_type": "code",
   "execution_count": 8,
   "id": "42b45d4c",
   "metadata": {},
   "outputs": [],
   "source": [
    "# merging dictionaries\n",
    "sols = sol_a | sol_b | sol_d\n",
    "\n",
    "# select those constants a_i, b_i, d_i equal to 0\n",
    "sols_0    = {k:v for k, v in sols.items() if v == 0}\n",
    "\n",
    "# P4 = alpha_7,   P5 = alpha_8,   P6 = alpha_9\n",
    "P456 = {P4: alpha_7, P5:alpha_8, P6:alpha_9}"
   ]
  },
  {
   "cell_type": "code",
   "execution_count": 9,
   "id": "4e135eda",
   "metadata": {},
   "outputs": [],
   "source": [
    "# create a dictionary with all constants to be replaced\n",
    "consts = sols_0 | P456\n",
    "\n",
    "# equation 24\n",
    "u   = u.subs(consts)\n",
    "v   = v.subs(consts)\n",
    "phi = phi.subs(consts)"
   ]
  },
  {
   "cell_type": "markdown",
   "id": "c907858d",
   "metadata": {},
   "source": [
    "Calculate the strain matrix $\\boldsymbol{B}$:"
   ]
  },
  {
   "cell_type": "code",
   "execution_count": 10,
   "id": "0a80ee15",
   "metadata": {},
   "outputs": [
    {
     "data": {
      "text/latex": [
       "$\\displaystyle \\boldsymbol{B} = \\left[\\begin{matrix}0 & 1 & 0 & 0 & 0 & 0 & c_{12} \\left(a_{2} + 2 a_{4} x + a_{5} y\\right) & b_{5} c_{23} y & c_{31} d_{5} y\\\\0 & 0 & 0 & 0 & 0 & 1 & s_{12} \\left(a_{3} + a_{5} x + 2 a_{6} y\\right) & s_{23} \\left(b_{5} x + 2 b_{6} y\\right) & s_{31} \\left(d_{3} + d_{5} x + 2 d_{6} y\\right)\\\\0 & 0 & 1 & 0 & 1 & 0 & c_{12} \\left(a_{3} + a_{5} x + 2 a_{6} y\\right) + s_{12} \\left(a_{2} + 2 a_{4} x + a_{5} y\\right) & b_{5} s_{23} y + c_{23} \\left(b_{5} x + 2 b_{6} y\\right) & c_{31} \\left(d_{3} + d_{5} x + 2 d_{6} y\\right) + d_{5} s_{31} y\\end{matrix}\\right]$"
      ],
      "text/plain": [
       "<IPython.core.display.Math object>"
      ]
     },
     "execution_count": 10,
     "metadata": {},
     "output_type": "execute_result"
    }
   ],
   "source": [
    "# equation 26\n",
    "ex  = diff(u, x)\n",
    "ey  = diff(v, y)\n",
    "gxy = diff(u, y) + diff(v, x)\n",
    "\n",
    "# equation 27\n",
    "B, _ =  linear_eq_to_matrix([ex, ey, gxy], alphas)\n",
    "imprimir(r'\\boldsymbol{B} = ', B)"
   ]
  },
  {
   "cell_type": "code",
   "execution_count": 11,
   "id": "a63faf7f",
   "metadata": {},
   "outputs": [
    {
     "data": {
      "text/latex": [
       "$\\displaystyle \\boldsymbol{A} = \\left[\\begin{matrix}1 & 0 & 0 & 0 & 0 & 0 & 0 & 0 & 0\\\\0 & 0 & 0 & 1 & 0 & 0 & 0 & 0 & 0\\\\0 & 0 & - \\frac{1}{2} & 0 & \\frac{1}{2} & 0 & \\frac{a_{2} s_{12}}{2} - \\frac{a_{3} c_{12}}{2} & 0 & - \\frac{c_{31} d_{3}}{2}\\\\1 & x_{2} & 0 & 0 & 0 & 0 & c_{12} \\left(a_{2} x_{2} + a_{4} x_{2}^{2}\\right) & 0 & 0\\\\0 & 0 & 0 & 1 & x_{2} & 0 & s_{12} \\left(a_{2} x_{2} + a_{4} x_{2}^{2}\\right) & 0 & 0\\\\0 & 0 & - \\frac{1}{2} & 0 & \\frac{1}{2} & 0 & - \\frac{c_{12} \\left(a_{3} + a_{5} x_{2}\\right)}{2} + \\frac{s_{12} \\left(a_{2} + 2 a_{4} x_{2}\\right)}{2} & - \\frac{b_{5} c_{23} x_{2}}{2} & - \\frac{c_{31} \\left(d_{3} + d_{5} x_{2}\\right)}{2}\\\\1 & x_{3} & y_{3} & 0 & 0 & 0 & c_{12} \\left(a_{2} x_{3} + a_{3} y_{3} + a_{4} x_{3}^{2} + a_{5} x_{3} y_{3} + a_{6} y_{3}^{2}\\right) & c_{23} \\left(b_{5} x_{3} y_{3} + b_{6} y_{3}^{2}\\right) & c_{31} \\left(d_{3} y_{3} + d_{5} x_{3} y_{3} + d_{6} y_{3}^{2}\\right)\\\\0 & 0 & 0 & 1 & x_{3} & y_{3} & s_{12} \\left(a_{2} x_{3} + a_{3} y_{3} + a_{4} x_{3}^{2} + a_{5} x_{3} y_{3} + a_{6} y_{3}^{2}\\right) & s_{23} \\left(b_{5} x_{3} y_{3} + b_{6} y_{3}^{2}\\right) & s_{31} \\left(d_{3} y_{3} + d_{5} x_{3} y_{3} + d_{6} y_{3}^{2}\\right)\\\\0 & 0 & - \\frac{1}{2} & 0 & \\frac{1}{2} & 0 & - \\frac{c_{12} \\left(a_{3} + a_{5} x_{3} + 2 a_{6} y_{3}\\right)}{2} + \\frac{s_{12} \\left(a_{2} + 2 a_{4} x_{3} + a_{5} y_{3}\\right)}{2} & \\frac{b_{5} s_{23} y_{3}}{2} - \\frac{c_{23} \\left(b_{5} x_{3} + 2 b_{6} y_{3}\\right)}{2} & - \\frac{c_{31} \\left(d_{3} + d_{5} x_{3} + 2 d_{6} y_{3}\\right)}{2} + \\frac{d_{5} s_{31} y_{3}}{2}\\end{matrix}\\right]$"
      ],
      "text/plain": [
       "<IPython.core.display.Math object>"
      ]
     },
     "execution_count": 11,
     "metadata": {},
     "output_type": "execute_result"
    }
   ],
   "source": [
    "# equation 25\n",
    "A_uvphi, _ = linear_eq_to_matrix([u, v, phi], alphas)\n",
    "\n",
    "# equations 29 and 30\n",
    "A1 = A_uvphi.subs({x:x1, y:y1})\n",
    "A2 = A_uvphi.subs({x:x2, y:y2})\n",
    "A3 = A_uvphi.subs({x:x3, y:y3})\n",
    "\n",
    "A = sp.BlockMatrix([[A1], [A2], [A3]]).as_explicit()\n",
    "imprimir(r'\\boldsymbol{A} = ', A)"
   ]
  },
  {
   "cell_type": "markdown",
   "id": "1bcb14f4",
   "metadata": {},
   "source": [
    "Estimate $c_{ij}$ and $s_{ij}$, the outward normals components of the edge located between nodes $i$ and $j$:"
   ]
  },
  {
   "cell_type": "code",
   "execution_count": 12,
   "id": "7ef005cb",
   "metadata": {},
   "outputs": [],
   "source": [
    "c12 =  (y2 - y1)/L12;    c23 =  (y3 - y2)/L23;    c31 =  (y1 - y3)/L31\n",
    "s12 = -(x2 - x1)/L12;    s23 = -(x3 - x2)/L23;    s31 = -(x1 - x3)/L31"
   ]
  },
  {
   "cell_type": "markdown",
   "id": "a9470aff",
   "metadata": {},
   "source": [
    "Replace $c_{ij}$ and $s_{ij}$ into $\\boldsymbol{A}$, in order to calculate equation (31):"
   ]
  },
  {
   "cell_type": "code",
   "execution_count": 13,
   "id": "f0f8962b",
   "metadata": {},
   "outputs": [
    {
     "data": {
      "text/latex": [
       "$\\displaystyle \\boldsymbol{A} = \\left[\\begin{matrix}1 & 0 & 0 & 0 & 0 & 0 & 0 & 0 & 0\\\\0 & 0 & 0 & 1 & 0 & 0 & 0 & 0 & 0\\\\0 & 0 & - \\frac{1}{2} & 0 & \\frac{1}{2} & 0 & - \\frac{2}{l_{12}} & 0 & \\frac{2}{l_{31}}\\\\1 & x_{2} & 0 & 0 & 0 & 0 & 0 & 0 & 0\\\\0 & 0 & 0 & 1 & x_{2} & 0 & 0 & 0 & 0\\\\0 & 0 & - \\frac{1}{2} & 0 & \\frac{1}{2} & 0 & \\frac{2}{l_{12}} & - \\frac{2}{l_{23}} & 0\\\\1 & x_{3} & y_{3} & 0 & 0 & 0 & 0 & 0 & 0\\\\0 & 0 & 0 & 1 & x_{3} & y_{3} & 0 & 0 & 0\\\\0 & 0 & - \\frac{1}{2} & 0 & \\frac{1}{2} & 0 & 0 & \\frac{2}{l_{23}} & - \\frac{2}{l_{31}}\\end{matrix}\\right]$"
      ],
      "text/plain": [
       "<IPython.core.display.Math object>"
      ]
     },
     "execution_count": 13,
     "metadata": {},
     "output_type": "execute_result"
    }
   ],
   "source": [
    "# equation 31\n",
    "cij_sij = { 'c12':c12, 's12':s12, 'c23':c23, 's23':s23, 'c31':c31, 's31':s31 }\n",
    "A = A.subs(sols | cij_sij).expand()\n",
    "imprimir(r'\\boldsymbol{A} = ', A)"
   ]
  },
  {
   "cell_type": "markdown",
   "id": "406e7a0b",
   "metadata": {},
   "source": [
    "Note that $\\boldsymbol{A}$ is a singular matrix with rank 8:"
   ]
  },
  {
   "cell_type": "code",
   "execution_count": 14,
   "id": "1230ee95",
   "metadata": {},
   "outputs": [
    {
     "data": {
      "image/png": "[encoded data removed]",
      "text/latex": [
       "$\\displaystyle 0$"
      ],
      "text/plain": [
       "0"
      ]
     },
     "execution_count": 14,
     "metadata": {},
     "output_type": "execute_result"
    }
   ],
   "source": [
    "A.det()"
   ]
  },
  {
   "cell_type": "code",
   "execution_count": 15,
   "id": "8db374e0",
   "metadata": {},
   "outputs": [
    {
     "data": {
      "image/png": "[encoded data removed]",
      "text/latex": [
       "$\\displaystyle 8$"
      ],
      "text/plain": [
       "8"
      ]
     },
     "execution_count": 15,
     "metadata": {},
     "output_type": "execute_result"
    }
   ],
   "source": [
    "A.rank()"
   ]
  },
  {
   "cell_type": "markdown",
   "id": "dd3010be",
   "metadata": {},
   "source": [
    "Print equations (32):"
   ]
  },
  {
   "cell_type": "code",
   "execution_count": 16,
   "id": "06802c49",
   "metadata": {},
   "outputs": [
    {
     "data": {
      "text/latex": [
       "$\\displaystyle \\varphi_1 = - \\frac{\\alpha_{3}}{2} + \\frac{\\alpha_{5}}{2} - \\frac{2 \\alpha_{7}}{l_{12}} + \\frac{2 \\alpha_{9}}{l_{31}}$"
      ],
      "text/plain": [
       "<IPython.core.display.Math object>"
      ]
     },
     "execution_count": 16,
     "metadata": {},
     "output_type": "execute_result"
    },
    {
     "data": {
      "text/latex": [
       "$\\displaystyle \\varphi_2 = - \\frac{\\alpha_{3}}{2} + \\frac{\\alpha_{5}}{2} + \\frac{2 \\alpha_{7}}{l_{12}} - \\frac{2 \\alpha_{8}}{l_{23}}$"
      ],
      "text/plain": [
       "<IPython.core.display.Math object>"
      ]
     },
     "execution_count": 16,
     "metadata": {},
     "output_type": "execute_result"
    },
    {
     "data": {
      "text/latex": [
       "$\\displaystyle \\varphi_3 = - \\frac{\\alpha_{3}}{2} + \\frac{\\alpha_{5}}{2} + \\frac{2 \\alpha_{8}}{l_{23}} - \\frac{2 \\alpha_{9}}{l_{31}}$"
      ],
      "text/plain": [
       "<IPython.core.display.Math object>"
      ]
     },
     "execution_count": 16,
     "metadata": {},
     "output_type": "execute_result"
    }
   ],
   "source": [
    "phi1 = A[2,:].dot(alphas)\n",
    "phi2 = A[5,:].dot(alphas)\n",
    "phi3 = A[8,:].dot(alphas)\n",
    "\n",
    "imprimir(r'\\varphi_1 = ', phi1)\n",
    "imprimir(r'\\varphi_2 = ', phi2)\n",
    "imprimir(r'\\varphi_3 = ', phi3)"
   ]
  },
  {
   "cell_type": "markdown",
   "id": "11fd628f",
   "metadata": {},
   "source": [
    "Estimate the rotation due to linear displacement:"
   ]
  },
  {
   "cell_type": "code",
   "execution_count": 17,
   "id": "ded0d8e1",
   "metadata": {},
   "outputs": [
    {
     "data": {
      "text/latex": [
       "$\\displaystyle \\varphi_l = \\varphi_R = - \\frac{\\alpha_{3}}{2} + \\frac{\\alpha_{5}}{2}$"
      ],
      "text/plain": [
       "<IPython.core.display.Math object>"
      ]
     },
     "execution_count": 17,
     "metadata": {},
     "output_type": "execute_result"
    }
   ],
   "source": [
    "phi_R = (phi1 + phi2 + phi3)/3\n",
    "imprimir(r'\\varphi_l = \\varphi_R = ', phi_R)"
   ]
  },
  {
   "cell_type": "markdown",
   "id": "99b65296",
   "metadata": {},
   "source": [
    "Print equations (33):"
   ]
  },
  {
   "cell_type": "code",
   "execution_count": 18,
   "id": "e264a6f6",
   "metadata": {
    "scrolled": true
   },
   "outputs": [
    {
     "data": {
      "text/latex": [
       "$\\displaystyle \\varphi_2 - \\varphi_1 = \\frac{4 \\alpha_{7}}{l_{12}} - \\frac{2 \\alpha_{8}}{l_{23}} - \\frac{2 \\alpha_{9}}{l_{31}}$"
      ],
      "text/plain": [
       "<IPython.core.display.Math object>"
      ]
     },
     "execution_count": 18,
     "metadata": {},
     "output_type": "execute_result"
    },
    {
     "data": {
      "text/latex": [
       "$\\displaystyle \\varphi_3 - \\varphi_2 = - \\frac{2 \\alpha_{7}}{l_{12}} + \\frac{4 \\alpha_{8}}{l_{23}} - \\frac{2 \\alpha_{9}}{l_{31}}$"
      ],
      "text/plain": [
       "<IPython.core.display.Math object>"
      ]
     },
     "execution_count": 18,
     "metadata": {},
     "output_type": "execute_result"
    },
    {
     "data": {
      "text/latex": [
       "$\\displaystyle \\varphi_1 - \\varphi_3 = - \\frac{2 \\alpha_{7}}{l_{12}} - \\frac{2 \\alpha_{8}}{l_{23}} + \\frac{4 \\alpha_{9}}{l_{31}}$"
      ],
      "text/plain": [
       "<IPython.core.display.Math object>"
      ]
     },
     "execution_count": 18,
     "metadata": {},
     "output_type": "execute_result"
    }
   ],
   "source": [
    "imprimir(r'\\varphi_2 - \\varphi_1 = ', phi2 - phi1)\n",
    "imprimir(r'\\varphi_3 - \\varphi_2 = ', phi3 - phi2)\n",
    "imprimir(r'\\varphi_1 - \\varphi_3 = ', phi1 - phi3)"
   ]
  },
  {
   "cell_type": "markdown",
   "id": "eeee7f43",
   "metadata": {},
   "source": [
    "Estimate the central rotation:"
   ]
  },
  {
   "cell_type": "code",
   "execution_count": 19,
   "id": "51b414fc",
   "metadata": {},
   "outputs": [
    {
     "data": {
      "text/latex": [
       "$\\displaystyle \\varphi_0 = - \\frac{\\alpha_{3}}{2} + \\frac{\\alpha_{5}}{2}$"
      ],
      "text/plain": [
       "<IPython.core.display.Math object>"
      ]
     },
     "execution_count": 19,
     "metadata": {},
     "output_type": "execute_result"
    }
   ],
   "source": [
    "phi0 = phi.subs({x:(x1 + x2 + x3)/3, y:(y1 + y2 + y3)/3} | sols | cij_sij).expand()\n",
    "imprimir(r'\\varphi_0 = ', phi0)"
   ]
  },
  {
   "cell_type": "code",
   "execution_count": null,
   "id": "c564a63a",
   "metadata": {},
   "outputs": [],
   "source": []
  },
  {
   "cell_type": "code",
   "execution_count": null,
   "id": "1be055ff",
   "metadata": {},
   "outputs": [],
   "source": []
  },
  {
   "cell_type": "code",
   "execution_count": 20,
   "id": "2f60e1ac",
   "metadata": {},
   "outputs": [],
   "source": [
    "k, D, E, F = symbols('k, D, E, F')\n",
    "\n",
    "A_amend = Matrix([[0, 0, 0, 0, 0, 0,   0,   0,   0],\n",
    "                  [0, 0, 0, 0, 0, 0,   0,   0,   0],\n",
    "                  [0, 0, 0, 0, 0, 0, k*D, k*E, k*F],\n",
    "                  [0, 0, 0, 0, 0, 0,   0,   0,   0],\n",
    "                  [0, 0, 0, 0, 0, 0,   0,   0,   0],\n",
    "                  [0, 0, 0, 0, 0, 0, k*D, k*E, k*F],\n",
    "                  [0, 0, 0, 0, 0, 0,   0,   0,   0],\n",
    "                  [0, 0, 0, 0, 0, 0,   0,   0,   0],\n",
    "                  [0, 0, 0, 0, 0, 0, k*D, k*E, k*F]])"
   ]
  },
  {
   "cell_type": "code",
   "execution_count": 21,
   "id": "219530df",
   "metadata": {},
   "outputs": [],
   "source": [
    "# equation 37\n",
    "A1 = A + A_amend"
   ]
  },
  {
   "cell_type": "code",
   "execution_count": 22,
   "id": "736b5b1b",
   "metadata": {},
   "outputs": [],
   "source": [
    "Ainv = A1.inv()"
   ]
  },
  {
   "cell_type": "code",
   "execution_count": 23,
   "id": "2c269714",
   "metadata": {},
   "outputs": [
    {
     "data": {
      "text/latex": [
       "$\\displaystyle \\boldsymbol{H} = \\left[\\begin{matrix}1 & 0 & 0 & 0 & 0 & 0 & 0 & 0 & 0\\\\- \\frac{1}{x_{2}} & 0 & 0 & \\frac{1}{x_{2}} & 0 & 0 & 0 & 0 & 0\\\\\\frac{- x_{2} + x_{3}}{x_{2} y_{3}} & 0 & 0 & - \\frac{x_{3}}{x_{2} y_{3}} & 0 & 0 & \\frac{1}{y_{3}} & 0 & 0\\\\0 & 1 & 0 & 0 & 0 & 0 & 0 & 0 & 0\\\\0 & - \\frac{1}{x_{2}} & 0 & 0 & \\frac{1}{x_{2}} & 0 & 0 & 0 & 0\\\\0 & - \\frac{1}{y_{3}} + \\frac{x_{3}}{x_{2} y_{3}} & 0 & 0 & - \\frac{x_{3}}{x_{2} y_{3}} & 0 & 0 & \\frac{1}{y_{3}} & 0\\\\0 & 0 & \\frac{- E l_{12} l_{23} - 2 F l_{12} l_{31}}{6 D l_{12} + 6 E l_{23} + 6 F l_{31}} & 0 & 0 & \\frac{2 E l_{12} l_{23} + F l_{12} l_{31}}{6 D l_{12} + 6 E l_{23} + 6 F l_{31}} & 0 & 0 & \\frac{- E l_{12} l_{23} + F l_{12} l_{31}}{6 D l_{12} + 6 E l_{23} + 6 F l_{31}}\\\\0 & 0 & \\frac{D l_{12} l_{23} - F l_{23} l_{31}}{6 D l_{12} + 6 E l_{23} + 6 F l_{31}} & 0 & 0 & \\frac{- 2 D l_{12} l_{23} - F l_{23} l_{31}}{6 D l_{12} + 6 E l_{23} + 6 F l_{31}} & 0 & 0 & \\frac{D l_{12} l_{23} + 2 F l_{23} l_{31}}{6 D l_{12} + 6 E l_{23} + 6 F l_{31}}\\\\0 & 0 & \\frac{2 D l_{12} l_{31} + E l_{23} l_{31}}{6 D l_{12} + 6 E l_{23} + 6 F l_{31}} & 0 & 0 & \\frac{- D l_{12} l_{31} + E l_{23} l_{31}}{6 D l_{12} + 6 E l_{23} + 6 F l_{31}} & 0 & 0 & \\frac{- D l_{12} l_{31} - 2 E l_{23} l_{31}}{6 D l_{12} + 6 E l_{23} + 6 F l_{31}}\\end{matrix}\\right]$"
      ],
      "text/plain": [
       "<IPython.core.display.Math object>"
      ]
     },
     "execution_count": 23,
     "metadata": {},
     "output_type": "execute_result"
    }
   ],
   "source": [
    "# equation 38\n",
    "H = Ainv.limit(k, oo)\n",
    "imprimir(r'\\boldsymbol{H} = ', H)"
   ]
  },
  {
   "cell_type": "code",
   "execution_count": 24,
   "id": "dd6ed039",
   "metadata": {
    "scrolled": true
   },
   "outputs": [],
   "source": [
    "# equations 39\n",
    "phi1, phi2, phi3 = symbols('varphi1:4')\n",
    "\n",
    "tmp = 6*(D*L12 + E*L23 + F*L31)\n",
    "eqs = [ ((alpha_7 - (H[7-1,3-1]*phi1 + H[7-1,6-1]*phi2 + H[7-1,9-1]*phi3))*tmp).factor(),\n",
    "        ((alpha_8 - (H[8-1,3-1]*phi1 + H[8-1,6-1]*phi2 + H[8-1,9-1]*phi3))*tmp).factor(),\n",
    "        ((alpha_9 - (H[9-1,3-1]*phi1 + H[9-1,6-1]*phi2 + H[9-1,9-1]*phi3))*tmp).factor() ]\n",
    "\n",
    "# equations 40\n",
    "sol = solve(eqs, [D,F])"
   ]
  },
  {
   "cell_type": "code",
   "execution_count": 25,
   "id": "8f9c3374",
   "metadata": {},
   "outputs": [
    {
     "data": {
      "image/png": "[encoded data removed]",
      "text/latex": [
       "$\\displaystyle - \\frac{E l_{23} \\left(\\varphi_{1} + \\varphi_{2} - 2 \\varphi_{3}\\right)}{l_{12} \\cdot \\left(2 \\varphi_{1} - \\varphi_{2} - \\varphi_{3}\\right)}$"
      ],
      "text/plain": [
       "-E⋅l₂₃⋅(varphi₁ + varphi₂ - 2⋅varphi₃) \n",
       "───────────────────────────────────────\n",
       "  l₁₂⋅(2⋅varphi₁ - varphi₂ - varphi₃)  "
      ]
     },
     "execution_count": 25,
     "metadata": {},
     "output_type": "execute_result"
    }
   ],
   "source": [
    "sol[D].factor()"
   ]
  },
  {
   "cell_type": "code",
   "execution_count": 26,
   "id": "a61b0bff",
   "metadata": {},
   "outputs": [
    {
     "data": {
      "image/png": "[encoded data removed]",
      "text/latex": [
       "$\\displaystyle - \\frac{E l_{23} \\left(\\varphi_{1} - 2 \\varphi_{2} + \\varphi_{3}\\right)}{l_{31} \\cdot \\left(2 \\varphi_{1} - \\varphi_{2} - \\varphi_{3}\\right)}$"
      ],
      "text/plain": [
       "-E⋅l₂₃⋅(varphi₁ - 2⋅varphi₂ + varphi₃) \n",
       "───────────────────────────────────────\n",
       "  l₃₁⋅(2⋅varphi₁ - varphi₂ - varphi₃)  "
      ]
     },
     "execution_count": 26,
     "metadata": {},
     "output_type": "execute_result"
    }
   ],
   "source": [
    "sol[F].factor()"
   ]
  },
  {
   "cell_type": "code",
   "execution_count": 27,
   "id": "76a3aa9b",
   "metadata": {},
   "outputs": [
    {
     "data": {
      "image/png": "[encoded data removed]",
      "text/latex": [
       "$\\displaystyle \\left[ - E l_{12} l_{23} + F l_{12} l_{31}, \\  D l_{12} l_{23} - F l_{23} l_{31}, \\  - D l_{12} l_{31} + E l_{23} l_{31}\\right]$"
      ],
      "text/plain": [
       "[-E⋅l₁₂⋅l₂₃ + F⋅l₁₂⋅l₃₁, D⋅l₁₂⋅l₂₃ - F⋅l₂₃⋅l₃₁, -D⋅l₁₂⋅l₃₁ + E⋅l₂₃⋅l₃₁]"
      ]
     },
     "execution_count": 27,
     "metadata": {},
     "output_type": "execute_result"
    }
   ],
   "source": [
    "# equations 42\n",
    "eqs = [ (H[7-1,9-1] - 0)*tmp.expand(),\n",
    "        (H[8-1,3-1] - 0)*tmp.expand(),\n",
    "        (H[9-1,6-1] - 0)*tmp.expand() ]\n",
    "eqs"
   ]
  },
  {
   "cell_type": "code",
   "execution_count": 28,
   "id": "220cfce1",
   "metadata": {
    "scrolled": true
   },
   "outputs": [
    {
     "data": {
      "image/png": "[encoded data removed]",
      "text/latex": [
       "$\\displaystyle \\left\\{ D : \\frac{E l_{23}}{l_{12}}, \\  F : \\frac{E l_{23}}{l_{31}}\\right\\}$"
      ],
      "text/plain": [
       "⎧   E⋅l₂₃     E⋅l₂₃⎫\n",
       "⎨D: ─────, F: ─────⎬\n",
       "⎩    l₁₂       l₃₁ ⎭"
      ]
     },
     "execution_count": 28,
     "metadata": {},
     "output_type": "execute_result"
    }
   ],
   "source": [
    "# equations 43\n",
    "sol2 = solve(eqs, [D, F])\n",
    "sol2"
   ]
  },
  {
   "cell_type": "code",
   "execution_count": 29,
   "id": "66094c53",
   "metadata": {
    "scrolled": true
   },
   "outputs": [],
   "source": [
    "#((sol2[D]*alpha_7 + E*alpha_8 + sol2[F]*alpha_9)/(E*L23)).expand()"
   ]
  },
  {
   "cell_type": "code",
   "execution_count": 30,
   "id": "5bcfd851",
   "metadata": {
    "scrolled": true
   },
   "outputs": [
    {
     "data": {
      "image/png": "[encoded data removed]",
      "text/latex": [
       "$\\displaystyle \\left[\\begin{matrix}1 & 0 & 0 & 0 & 0 & 0 & 0 & 0 & 0\\\\- \\frac{1}{x_{2}} & 0 & 0 & \\frac{1}{x_{2}} & 0 & 0 & 0 & 0 & 0\\\\\\frac{- x_{2} + x_{3}}{x_{2} y_{3}} & 0 & 0 & - \\frac{x_{3}}{x_{2} y_{3}} & 0 & 0 & \\frac{1}{y_{3}} & 0 & 0\\\\0 & 1 & 0 & 0 & 0 & 0 & 0 & 0 & 0\\\\0 & - \\frac{1}{x_{2}} & 0 & 0 & \\frac{1}{x_{2}} & 0 & 0 & 0 & 0\\\\0 & - \\frac{1}{y_{3}} + \\frac{x_{3}}{x_{2} y_{3}} & 0 & 0 & - \\frac{x_{3}}{x_{2} y_{3}} & 0 & 0 & \\frac{1}{y_{3}} & 0\\\\0 & 0 & - \\frac{l_{12}}{6} & 0 & 0 & \\frac{l_{12}}{6} & 0 & 0 & 0\\\\0 & 0 & 0 & 0 & 0 & - \\frac{l_{23}}{6} & 0 & 0 & \\frac{l_{23}}{6}\\\\0 & 0 & \\frac{l_{31}}{6} & 0 & 0 & 0 & 0 & 0 & - \\frac{l_{31}}{6}\\end{matrix}\\right]$"
      ],
      "text/plain": [
       "⎡   1           0          0      0      0      0    0   0     0  ⎤\n",
       "⎢                                                                 ⎥\n",
       "⎢  -1                            1                                ⎥\n",
       "⎢  ───          0          0     ──      0      0    0   0     0  ⎥\n",
       "⎢   x₂                           x₂                               ⎥\n",
       "⎢                                                                 ⎥\n",
       "⎢-x₂ + x₃                        -x₃                 1            ⎥\n",
       "⎢────────       0          0    ─────    0      0    ──  0     0  ⎥\n",
       "⎢ x₂⋅y₃                         x₂⋅y₃                y₃           ⎥\n",
       "⎢                                                                 ⎥\n",
       "⎢   0           1          0      0      0      0    0   0     0  ⎥\n",
       "⎢                                                                 ⎥\n",
       "⎢              -1                       1                         ⎥\n",
       "⎢   0          ───         0      0     ──      0    0   0     0  ⎥\n",
       "⎢               x₂                      x₂                        ⎥\n",
       "⎢                                                                 ⎥\n",
       "⎢            1      x₃                  -x₃              1        ⎥\n",
       "⎢   0      - ── + ─────    0      0    ─────    0    0   ──    0  ⎥\n",
       "⎢            y₃   x₂⋅y₃                x₂⋅y₃             y₃       ⎥\n",
       "⎢                                                                 ⎥\n",
       "⎢                        -l₁₂                  l₁₂                ⎥\n",
       "⎢   0           0        ─────    0      0     ───   0   0     0  ⎥\n",
       "⎢                          6                    6                 ⎥\n",
       "⎢                                                                 ⎥\n",
       "⎢                                             -l₂₃            l₂₃ ⎥\n",
       "⎢   0           0          0      0      0    ─────  0   0    ─── ⎥\n",
       "⎢                                               6              6  ⎥\n",
       "⎢                                                                 ⎥\n",
       "⎢                         l₃₁                                -l₃₁ ⎥\n",
       "⎢   0           0         ───     0      0      0    0   0   ─────⎥\n",
       "⎣                          6                                   6  ⎦"
      ]
     },
     "execution_count": 30,
     "metadata": {},
     "output_type": "execute_result"
    }
   ],
   "source": [
    "# equation 44\n",
    "D = 1/L12\n",
    "E = 1/L23\n",
    "F = 1/L31\n",
    "\n",
    "A_amend = Matrix([[0, 0, 0, 0, 0, 0,   0,   0,   0],\n",
    "                  [0, 0, 0, 0, 0, 0,   0,   0,   0],\n",
    "                  [0, 0, 0, 0, 0, 0, k*D, k*E, k*F],\n",
    "                  [0, 0, 0, 0, 0, 0,   0,   0,   0],\n",
    "                  [0, 0, 0, 0, 0, 0,   0,   0,   0],\n",
    "                  [0, 0, 0, 0, 0, 0, k*D, k*E, k*F],\n",
    "                  [0, 0, 0, 0, 0, 0,   0,   0,   0],\n",
    "                  [0, 0, 0, 0, 0, 0,   0,   0,   0],\n",
    "                  [0, 0, 0, 0, 0, 0, k*D, k*E, k*F]])\n",
    "\n",
    "# equation 46\n",
    "A2 = A + A_amend\n",
    "\n",
    "# equation 47\n",
    "Ainv = A2.inv() #.subs({L12:x2}).simplify()\n",
    "\n",
    "# equation 48\n",
    "H = Ainv.limit(k, oo)\n",
    "H"
   ]
  },
  {
   "cell_type": "code",
   "execution_count": 31,
   "id": "d933fb6c",
   "metadata": {},
   "outputs": [
    {
     "data": {
      "text/latex": [
       "$\\displaystyle u = u_{1} \\left(- \\frac{x}{x_{2}} - \\frac{y}{y_{3}} + 1 + \\frac{x_{3} y}{x_{2} y_{3}}\\right) + u_{2} \\left(\\frac{x}{x_{2}} - \\frac{x_{3} y}{x_{2} y_{3}}\\right) + \\frac{u_{3} y}{y_{3}} + \\varphi_{1} \\cdot \\left(\\frac{2 x y}{3 x_{2}} + \\frac{2 y^{2}}{3 y_{3}} - \\frac{2 y}{3} - \\frac{2 x_{3} y^{2}}{3 x_{2} y_{3}}\\right) + \\varphi_{2} \\left(- \\frac{2 x y}{3 x_{2}} + \\frac{2 x_{3} y^{2}}{3 x_{2} y_{3}}\\right) + \\varphi_{3} \\left(- \\frac{2 y^{2}}{3 y_{3}} + \\frac{2 y}{3}\\right)$"
      ],
      "text/plain": [
       "<IPython.core.display.Math object>"
      ]
     },
     "execution_count": 31,
     "metadata": {},
     "output_type": "execute_result"
    },
    {
     "data": {
      "text/latex": [
       "$\\displaystyle v = v_{1} \\left(- \\frac{x}{x_{2}} - \\frac{y}{y_{3}} + 1 + \\frac{x_{3} y}{x_{2} y_{3}}\\right) + v_{2} \\left(\\frac{x}{x_{2}} - \\frac{x_{3} y}{x_{2} y_{3}}\\right) + \\frac{v_{3} y}{y_{3}} + \\varphi_{1} \\left(- \\frac{2 x^{2}}{3 x_{2}} - \\frac{2 x y}{3 y_{3}} + \\frac{2 x}{3} + \\frac{2 x x_{3} y}{3 x_{2} y_{3}}\\right) + \\varphi_{2} \\cdot \\left(\\frac{2 x^{2}}{3 x_{2}} - \\frac{2 x}{3} - \\frac{2 x x_{3} y}{3 x_{2} y_{3}} + \\frac{2 x_{3} y}{3 y_{3}}\\right) + \\varphi_{3} \\cdot \\left(\\frac{2 x y}{3 y_{3}} - \\frac{2 x_{3} y}{3 y_{3}}\\right)$"
      ],
      "text/plain": [
       "<IPython.core.display.Math object>"
      ]
     },
     "execution_count": 31,
     "metadata": {},
     "output_type": "execute_result"
    },
    {
     "data": {
      "text/latex": [
       "$\\displaystyle \\varphi = u_{1} \\cdot \\left(\\frac{1}{2 y_{3}} - \\frac{x_{3}}{2 x_{2} y_{3}}\\right) + \\frac{u_{2} x_{3}}{2 x_{2} y_{3}} - \\frac{u_{3}}{2 y_{3}} - \\frac{v_{1}}{2 x_{2}} + \\frac{v_{2}}{2 x_{2}} + \\varphi_{1} \\left(- \\frac{x}{x_{2}} - \\frac{y}{y_{3}} + \\frac{2}{3} + \\frac{x_{3} y}{x_{2} y_{3}}\\right) + \\varphi_{2} \\left(\\frac{x}{x_{2}} - \\frac{1}{3} - \\frac{x_{3} y}{x_{2} y_{3}}\\right) + \\varphi_{3} \\left(\\frac{y}{y_{3}} - \\frac{1}{3}\\right)$"
      ],
      "text/plain": [
       "<IPython.core.display.Math object>"
      ]
     },
     "execution_count": 31,
     "metadata": {},
     "output_type": "execute_result"
    }
   ],
   "source": [
    "# Calculation of the equations of Appendix 2\n",
    "u1, u2, u3       = symbols('u_1:4')\n",
    "v1, v2, v3       = symbols('v_1:4')\n",
    "phi1, phi2, phi3 = symbols('varphi1:4')\n",
    "\n",
    "U       = Matrix([u1, v1, phi1, u2, v2, phi2, u3, v3, phi3 ])\n",
    "\n",
    "u_v_phi = (A_uvphi @ H @ U).subs(sols).subs(cij_sij).expand()\n",
    "\n",
    "imprimir(       'u = ', sp.collect(u_v_phi[0], U))\n",
    "imprimir(       'v = ', sp.collect(u_v_phi[1], U))\n",
    "imprimir(r'\\varphi = ', sp.collect(u_v_phi[2], U))        "
   ]
  },
  {
   "cell_type": "code",
   "execution_count": null,
   "id": "0583ac3f",
   "metadata": {},
   "outputs": [],
   "source": []
  }
 ],
 "metadata": {
  "kernelspec": {
   "display_name": "Python 3 (ipykernel)",
   "language": "python",
   "name": "python3"
  },
  "language_info": {
   "codemirror_mode": {
    "name": "ipython",
    "version": 3
   },
   "file_extension": ".py",
   "mimetype": "text/x-python",
   "name": "python",
   "nbconvert_exporter": "python",
   "pygments_lexer": "ipython3",
   "version": "3.9.13"
  }
 },
 "nbformat": 4,
 "nbformat_minor": 5
}
